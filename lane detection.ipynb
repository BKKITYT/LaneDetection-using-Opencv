{
 "cells": [
  {
   "cell_type": "code",
   "execution_count": 1,
   "metadata": {},
   "outputs": [],
   "source": [
    "import matplotlib.pylab as plt\n",
    "import cv2\n",
    "import numpy as np"
   ]
  },
  {
   "cell_type": "code",
   "execution_count": 2,
   "metadata": {},
   "outputs": [],
   "source": [
    "def region(img,vertices):\n",
    "    mask=np.zeros_like(img)\n",
    "    match_mask_color=255\n",
    "    cv2.fillPoly(mask,vertices,match_mask_color)\n",
    "    masked_image=cv2.bitwise_and(img,mask)\n",
    "    return masked_image\n",
    "def drow_the_lines(img,lines):\n",
    "    img=np.copy(img)\n",
    "    blank_image=np.zeros((img.shape[0],img.shape[1],3),dtype=np.uint8)\n",
    "    for line in lines:\n",
    "        for x1,y1,x2,y2 in line:\n",
    "            cv2.line(blank_image,(x1,y1),(x2,y2),(0,255,0),thickness=10)\n",
    "            \n",
    "    img=cv2.addWeighted(img,0.8,blank_image,1,0.0)\n",
    "    return img\n",
    "\n",
    "def process(image):\n",
    "    print(image.shape)\n",
    "    height=image.shape[0]\n",
    "    width=image.shape[1]\n",
    "    region1=[(0,height),(width/2,height/2),(width,height)]\n",
    "    gray_image=cv2.cvtColor(image,cv2.COLOR_RGB2GRAY)\n",
    "    canny_image=cv2.Canny(gray_image,100,120)\n",
    "    cropped_image=region(canny_image,np.array([region1],np.int32),)\n",
    "    lines=cv2.HoughLinesP(cropped_image,rho=2,theta=np.pi/180,threshold=50,lines=np.array([]),minLineLength=40,maxLineGap=100)\n",
    "    image_with_lines=drow_the_lines(image,lines)\n",
    "    return image_with_lines\n",
    "#image= cv2.imread('lane1.jpg')\n",
    "#image = cv2.cvtColor(image, cv2.COLOR_BGR2RGB)"
   ]
  },
  {
   "cell_type": "code",
   "execution_count": 3,
   "metadata": {},
   "outputs": [],
   "source": [
    "cap = cv2.VideoCapture('testvedio2.mp4')\n",
    "\n",
    "while cap.isOpened():\n",
    "    ret, frame = cap.read()\n",
    "    frame = process(frame)\n",
    "    cv2.imshow('frame', frame)\n",
    "    if cv2.waitKey(1) & 0xFF == ord('q'):\n",
    "        break"
   ]
  },
  {
   "cell_type": "code",
   "execution_count": 4,
   "metadata": {},
   "outputs": [],
   "source": [
    "\n",
    "cv2.destroyAllWindows()\n",
    "cap.release()"
   ]
  }
 ],
 "metadata": {
  "kernelspec": {
   "display_name": "Python 3",
   "language": "python",
   "name": "python3"
  },
  "language_info": {
   "codemirror_mode": {
    "name": "ipython",
    "version": 3
   },
   "file_extension": ".py",
   "mimetype": "text/x-python",
   "name": "python",
   "nbconvert_exporter": "python",
   "pygments_lexer": "ipython3",
   "version": "3.7.3"
  }
 },
 "nbformat": 4,
 "nbformat_minor": 2
}
